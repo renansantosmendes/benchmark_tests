{
 "cells": [
  {
   "cell_type": "markdown",
   "metadata": {
    "raw_mimetype": "text/restructuredtext"
   },
   "source": [
    ".. _nb_ref_dirs:"
   ]
  },
  {
   "cell_type": "markdown",
   "metadata": {},
   "source": [
    "## Reference Directions\n",
    "\n",
    "Most evolutionary many-objective optimization (EMaO) algorithms, for instance [NSGA3](../algorithms/nsga3.ipynb) or [MOEAD](../algorithms/moead.ipynb), start with a description of a number of predefined set of reference directions on a unit simplex. Reference directions in an $M$-dimensional space are subject to"
   ]
  },
  {
   "cell_type": "markdown",
   "metadata": {},
   "source": [
    "$$\n",
    "\\sum_{i=1}^{M} w_i = 1\n",
    "$$\n",
    "\n",
    "$$\n",
    "w_i \\geq 0 \\quad \\forall i \\in (1, ..., M)\n",
    "$$\n",
    "\n"
   ]
  },
  {
   "cell_type": "markdown",
   "metadata": {},
   "source": [
    "\n",
    "So far, most studies have used the Das and Dennis's structured approach <cite data-cite=\"das_dennis\"></cite> for generating  well-spaced reference points. \n",
    "A reference direction is constructed by a vector originating from the origin and connected to each of them. The number of points on the unit simplex is determined by a parameter $p$ (we call it `n_partitions` in our implementation), which indicates the number of gaps between two consecutive points along an objective axis. It turns out that the total number of points ($n$) on the unit simplex is"
   ]
  },
  {
   "cell_type": "markdown",
   "metadata": {},
   "source": [
    "$$\n",
    "n = C_{p}^{\\, M+p-1}\n",
    "$$\n",
    "\n",
    "For example, if $p=10$ is chosen for a three-objective problem ($M=3$), then the total number of points on the unit simplex is $C_{10}^{\\, 3+10-1}=\\binom{12}{10}$ or 66. These 66 points are well-spaced with an identical distance to their nearest neighbor on the unit simplex.\n",
    "Due to the highly structured nature of the procedure, this method cannot produce an arbitrary number of points desired in an EMaO application. Moreover, in higher dimensional space, most points to not lie in the interior but on the boundaries. Both are demonstrated in the figure below.\n",
    "\n",
    "<div style=\"display: block;margin-left: auto;margin-right: auto;width: 60%;\">\n",
    "![ref_dir_interior](../resources/images/ref_dir_interior.png)\n",
    "</div>\n"
   ]
  },
  {
   "cell_type": "markdown",
   "metadata": {},
   "source": [
    "Our framework offers a **novel** Riesz s-Energy <cite data-cite=\"ref_dirs\"></cite> based method which can overcome the limitation of the Das and Dennis method and create a well-spaced point set for any arbitrary number of points and dimensions.\n",
    "This method addresses the need of EMO research for a more generic approach to sample reference directions. "
   ]
  },
  {
   "cell_type": "markdown",
   "metadata": {},
   "source": [
    "[Riesz s-Energy](#Riesz-s-Energy) | \n",
    "[Uniform Sampling / Das-Dennis](#Das-Dennis) | \n",
    "[Multi-layer Approach](#Multi-layer-Approach)"
   ]
  },
  {
   "cell_type": "markdown",
   "metadata": {},
   "source": [
    "### Riesz s-Energy\n",
    "\n"
   ]
  },
  {
   "cell_type": "markdown",
   "metadata": {},
   "source": [
    "\\begin{equation}\n",
    "\\newcommand{\\boldz}{\\mbox{${\\textbf z}$}}\n",
    "\\newcommand{\\norm}[1]{\\left\\lVert#1\\right\\rVert}\n",
    "\\end{equation}\n",
    "\n",
    "The motivation behind the use of an energy concept to obtain a well-spaced distribution comes from nature. Multi-body and interacting physical systems eventually settle on a state which corresponds to the minimum overall potential energy. For two bodies, the potential energy is proportional to the inverse of the distance between them. The minimum potential solution corresponds to a diverse distribution of multiple bodies in the three-dimensional physical space. \n",
    "While dealing with a many-dimensional ($s$) space, we use a generalization of potential energy called Riesz <cite data-cite=\"HARDIN2005174\"></cite> which is defined between two points ($\\boldz^{(i)}$ and $\\boldz^{(j)}$) as\n",
    "\n",
    "\\begin{equation}\n",
    "U(\\boldz^{(i)},\\boldz^{(j)}) = \\frac{1}{\\norm{{\\bf z}^{(i)} - {\\bf z}^{(j)}}^s}.\n",
    "\\end{equation}\n",
    "\n",
    "In our context, it is not clear how the dimension $s$ should depend on the number of objectives ($M$), but some trial-and-error studies (shown in the Supplementary document) motivated us to set $s=M^2$ for all simulations here. For multiple ($n$) points, the overall s-Energy can be written as follows:\n",
    "\n",
    "\\begin{equation}\n",
    "U_T(\\boldz) = \\frac{1}{2}\\sum_{i = 1}^{n}\\sum_{j = 1 \\atop j \\neq i}^{n} \\frac{1}{\\norm{{\\bf z}^{(i)} - {\\bf z}^{(j)}}^s}, \\quad {\\bf z} \\in \\mathbb{R}^{n\\times M}.\n",
    "\\end{equation}\n",
    "\n",
    "The concept for our energy method is to find the $\\boldz$-matrix of size $n\\times M$ which minimizes $U_T$ subject to every $\\boldz^{(i)}$ vector to lie on the unit simplex, that is, $\\sum_{m=1}^M z_m^{(i)}=1$. We employ a gradient-based optimization method (Adam~\\cite{adam}) here. Due to very large magnitude of $U_T$, we take a logarithm of $U_T$ and then compute the partial derivative of $F_E=\\log U_T$ with respect to $z_m^{(i)}$, as follows:\n",
    "\n",
    "\\begin{equation}\n",
    "\\begin{aligned}\n",
    "\\frac{\\partial F_E}{\\partial z^{(i)}_m} &= -\\frac{d}{U_T} \\left[\\sum_{j=1, \\atop j \\neq i}^{n}\\frac{\\left(z^{(i)}_m - z^{(j)}_m\\right)}{\\norm{{\\bf z}^{(i)} - {\\bf z}^{(j)}}^{s + 2}} \\right].\n",
    "\\end{aligned}\n",
    "\\end{equation}\n",
    "\n",
    "To make sure all points stay on the unit simplex, gradients are projected onto the unit simplex. \n",
    "\n"
   ]
  },
  {
   "cell_type": "markdown",
   "metadata": {},
   "source": [
    "The proposed s-Energy method is exclusively available in our framework and was the outcome of a research project in our laboratory. We are driven by providing our newest algorithms and methods to other researchers.\n",
    "If you use our method to create reference directions, please cite our method as:"
   ]
  },
  {
   "cell_type": "markdown",
   "metadata": {},
   "source": [
    "```\n",
    "@ARTICLE{ref_dirs_energy,\n",
    "    author={J. {Blank} and K. {Deb} and Y. {Dhebar} and S. {Bandaru} and H. {Seada}},\n",
    "    journal={IEEE Transactions on Evolutionary Computation},\n",
    "    title={Generating Well-Spaced Points on a Unit Simplex for Evolutionary Many-Objective Optimization},\n",
    "    year={In press},\n",
    "    volume={},\n",
    "    number={},\n",
    "    pages={}\n",
    "}\n",
    "```"
   ]
  },
  {
   "cell_type": "markdown",
   "metadata": {},
   "source": [
    "Some examples are provided below:"
   ]
  },
  {
   "cell_type": "code",
   "execution_count": 1,
   "metadata": {},
   "outputs": [],
   "source": [
    "from pymoo.factory import get_visualization, get_reference_directions\n",
    "from pymoo.util.ref_dirs.energy import RieszEnergyReferenceDirectionFactory\n",
    "\n",
    "ref_dirs = get_reference_directions(\"energy\", 3, 90, seed=1)\n",
    "get_visualization(\"scatter\").add(ref_dirs).show()"
   ]
  },
  {
   "cell_type": "code",
   "execution_count": 2,
   "metadata": {},
   "outputs": [],
   "source": [
    "ref_dirs = get_reference_directions(\"energy\", 3, 250, seed=1)\n",
    "get_visualization(\"scatter\").add(ref_dirs).show()"
   ]
  },
  {
   "cell_type": "markdown",
   "metadata": {},
   "source": [
    "### Das-Dennis"
   ]
  },
  {
   "cell_type": "markdown",
   "metadata": {},
   "source": [
    "As mentioned in the introduction, the Das-Dennis method can be used to create reference directions in a very structured way. \n",
    "However, the method relies on a partition number `n_partitions` which determines how many points will be sampled.\n",
    "Points can be uniformly create on the unit simplex using the Das-Dennis method proposed in <cite data-cite=\"das_dennis\"></cite>."
   ]
  },
  {
   "cell_type": "code",
   "execution_count": 3,
   "metadata": {},
   "outputs": [],
   "source": [
    "ref_dirs = get_reference_directions(\"das-dennis\", 3, n_partitions=12)\n",
    "get_visualization(\"scatter\").add(ref_dirs).show()"
   ]
  },
  {
   "cell_type": "markdown",
   "metadata": {},
   "source": [
    "By carefully observing the figure above, one can see that along one axis, exactly 12 partitions (which results in 13 points, including the corners) exist. However, this implies that when the dimensionality increases, more points will be sampled a) on the boundaries and b) on the overall simplex. "
   ]
  },
  {
   "cell_type": "code",
   "execution_count": 4,
   "metadata": {},
   "outputs": [
    {
     "data": {
      "image/png": "[encoded data removed]",
      "text/plain": [
       "<Figure size 432x288 with 1 Axes>"
      ]
     },
     "metadata": {
      "image/png": {
       "height": 277,
       "width": 407
      },
      "needs_background": "light"
     },
     "output_type": "display_data"
    }
   ],
   "source": [
    "import matplotlib.pyplot as plt\n",
    "\n",
    "n_dim = range(3,10)\n",
    "n_points = [len(get_reference_directions(\"das-dennis\", d, n_partitions=12)) for d in n_dim]\n",
    "\n",
    "plt.plot(n_dim, n_points, '--o')\n",
    "plt.title(\"Number of Referenes Directions (p=12)\")\n",
    "plt.ylabel(\"Number of Points\")\n",
    "plt.xlabel(\"Dimension\")\n",
    "plt.show()"
   ]
  },
  {
   "cell_type": "markdown",
   "metadata": {},
   "source": [
    "One can argue that decreasing the partition number might be a solution to address the exploding number of points in higher dimensions. However, please keep in mind that only very few points might lie in the simplex interior. Calculations reveal that, when $p<M$, there is no interior point, and when $p=M$, there is exactly one interior point, irrespective of the size of $M$. With $p>M$  points begin to appear in the interior, but the number of such interior points is $n_I = {{p-1}\\choose{p-M}}$, which is only a tiny fraction\n",
    "\\begin{equation}\n",
    "\\rho_I = \\frac{n_I}{n} = \\frac{p! \\, (p-1)!}{(p-M)! \\, (M+p-1)!}\n",
    "\\end{equation}\n",
    "of all $n$ Das and Dennis points."
   ]
  },
  {
   "cell_type": "markdown",
   "metadata": {},
   "source": [
    "Some researchers have used the idea of creating multiple layers of such Das-Dennis points to overcome this issue."
   ]
  },
  {
   "cell_type": "markdown",
   "metadata": {},
   "source": [
    "### Multi-layer Approach"
   ]
  },
  {
   "cell_type": "markdown",
   "metadata": {},
   "source": [
    "This approach uses the idea of scaling different simplices. This requires the user to define different layers, including the dimensionality `n_dim`, the partition number `n_partitions`, and the corresponding scaling `scaling`.\n",
    "For instance, for three dimensions, a bias towards the center can be achieved as follows:"
   ]
  },
  {
   "cell_type": "code",
   "execution_count": 5,
   "metadata": {},
   "outputs": [],
   "source": [
    "ref_dirs = get_reference_directions(\n",
    "    \"multi-layer\",\n",
    "    get_reference_directions(\"das-dennis\", 3, n_partitions=12, scaling=1.0),\n",
    "    get_reference_directions(\"das-dennis\", 3, n_partitions=12, scaling=0.5)\n",
    ")\n",
    "\n",
    "get_visualization(\"scatter\").add(ref_dirs).show()"
   ]
  },
  {
   "cell_type": "markdown",
   "metadata": {},
   "source": [
    "In order to factor reference directions on an eight-dimensional unit simplex we can do the following:"
   ]
  },
  {
   "cell_type": "code",
   "execution_count": 6,
   "metadata": {},
   "outputs": [],
   "source": [
    "ref_dirs = get_reference_directions(\n",
    "    \"multi-layer\",\n",
    "    get_reference_directions(\"das-dennis\", 8, n_partitions=3, scaling=1.0),\n",
    "    get_reference_directions(\"das-dennis\", 8, n_partitions=2, scaling=0.5),\n",
    ")\n",
    "\n",
    "get_visualization(\"pcp\").add(ref_dirs).show()"
   ]
  },
  {
   "cell_type": "markdown",
   "metadata": {},
   "source": [
    "A more generic approach that does **NOT** need any scalings to be provided by the user is to use the **Riesz s-Energy** method to optimize not the reference directions directly but the scalings."
   ]
  },
  {
   "cell_type": "code",
   "execution_count": 7,
   "metadata": {},
   "outputs": [],
   "source": [
    "partitions = [3, 2, 1, 1]\n",
    "\n",
    "ref_dirs = get_reference_directions(\"layer-energy\", 8, partitions)\n",
    "get_visualization(\"pcp\").add(ref_dirs).show()"
   ]
  },
  {
   "cell_type": "markdown",
   "metadata": {},
   "source": [
    "The `LayerwiseRieszEnergyReferenceDirectionFactory` can be used to retrieve the optimized partitions instead of the convenience method."
   ]
  },
  {
   "cell_type": "code",
   "execution_count": 8,
   "metadata": {},
   "outputs": [
    {
     "data": {
      "text/plain": [
       "[1.0, 0.8480631388253735, 0.6542126980619762, 0.3805165848046697]"
      ]
     },
     "execution_count": 8,
     "metadata": {},
     "output_type": "execute_result"
    }
   ],
   "source": [
    "from pymoo.util.ref_dirs.energy_layer import LayerwiseRieszEnergyReferenceDirectionFactory\n",
    "\n",
    "fac = LayerwiseRieszEnergyReferenceDirectionFactory(8, partitions)\n",
    "ref_dirs = fac.do()\n",
    "\n",
    "list(fac.scalings)"
   ]
  },
  {
   "cell_type": "code",
   "execution_count": 9,
   "metadata": {},
   "outputs": [],
   "source": [
    "ref_dirs = get_reference_directions(\"layer-energy\", 3, [9, 5, 2, 1])\n",
    "get_visualization(\"scatter\").add(ref_dirs).show()"
   ]
  }
 ],
 "metadata": {
  "kernelspec": {
   "display_name": "Python 3",
   "language": "python",
   "name": "python3"
  },
  "language_info": {
   "codemirror_mode": {
    "name": "ipython",
    "version": 3
   },
   "file_extension": ".py",
   "mimetype": "text/x-python",
   "name": "python",
   "nbconvert_exporter": "python",
   "pygments_lexer": "ipython3",
   "version": "3.7.3"
  }
 },
 "nbformat": 4,
 "nbformat_minor": 4
}
