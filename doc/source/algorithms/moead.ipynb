{
 "cells": [
  {
   "cell_type": "raw",
   "metadata": {
    "raw_mimetype": "text/restructuredtext"
   },
   "source": [
    ".. _nb_moead:"
   ]
  },
  {
   "cell_type": "markdown",
   "metadata": {},
   "source": [
    "## MOEA/D\n",
    "\n",
    "\n",
    "This algorithm is implemented based on <cite data-cite=\"moead\"></cite>. The algorithm is based on [Reference Directions](../misc/reference_directions.ipynb) which need to be provided when initializing the algorithm object."
   ]
  },
  {
   "cell_type": "code",
   "execution_count": 1,
   "metadata": {
    "code": "algorithms/usage_moead.py"
   },
   "outputs": [],
   "source": [
    "from pymoo.algorithms.moead import MOEAD\n",
    "from pymoo.factory import get_problem, get_visualization, get_reference_directions\n",
    "from pymoo.optimize import minimize\n",
    "\n",
    "problem = get_problem(\"dtlz2\")\n",
    "\n",
    "algorithm = MOEAD(\n",
    "    get_reference_directions(\"das-dennis\", 3, n_partitions=12),\n",
    "    n_neighbors=15,\n",
    "    decomposition=\"pbi\",\n",
    "    prob_neighbor_mating=0.7,\n",
    "    seed=1\n",
    ")\n",
    "\n",
    "res = minimize(problem, algorithm, termination=('n_gen', 200))\n",
    "\n",
    "get_visualization(\"scatter\").add(res.F).show()\n"
   ]
  },
  {
   "cell_type": "markdown",
   "metadata": {},
   "source": [
    "### API"
   ]
  },
  {
   "cell_type": "raw",
   "metadata": {
    "raw_mimetype": "text/restructuredtext"
   },
   "source": [
    ".. autoclass:: pymoo.algorithms.moead.MOEAD\n",
    "    :noindex:"
   ]
  }
 ],
 "metadata": {
  "celltoolbar": "Raw Cell Format",
  "kernelspec": {
   "display_name": "Python 3",
   "language": "python",
   "name": "python3"
  },
  "language_info": {
   "codemirror_mode": {
    "name": "ipython",
    "version": 3
   },
   "file_extension": ".py",
   "mimetype": "text/x-python",
   "name": "python",
   "nbconvert_exporter": "python",
   "pygments_lexer": "ipython3",
   "version": "3.7.4"
  }
 },
 "nbformat": 4,
 "nbformat_minor": 4
}
