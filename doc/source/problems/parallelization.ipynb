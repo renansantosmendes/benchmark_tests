{
 "cells": [
  {
   "cell_type": "raw",
   "metadata": {
    "raw_mimetype": "text/restructuredtext"
   },
   "source": [
    ".. _nb_parallelization:"
   ]
  },
  {
   "cell_type": "markdown",
   "metadata": {},
   "source": [
    "# Parallelization"
   ]
  },
  {
   "cell_type": "markdown",
   "metadata": {},
   "source": [
    "In practice parallelization is important and can significantly speed up the optimization. \n",
    "For population-based algorithms the evaluation of a set of solutions can be parallelized easily \n",
    "by parallelization the evaluation itself."
   ]
  },
  {
   "cell_type": "markdown",
   "metadata": {},
   "source": [
    "# Vectorized Matrix Operations\n",
    "\n",
    "One way is using the `NumPy` matrix operations which has been used for almost all test problems implemented in *pymoo*.\n",
    "By default `elementwise_evaluation` is set to `False` which implies the `_evaluate` retrieves a set of solutions.\n",
    "Thus, `x` is a matrix where each row is an individual and each column a variable."
   ]
  },
  {
   "cell_type": "code",
   "execution_count": 4,
   "metadata": {},
   "outputs": [],
   "source": [
    "import numpy as np\n",
    "\n",
    "from pymoo.model.problem import Problem\n",
    "\n",
    "class MyProblem(Problem):\n",
    "\n",
    "    def __init__(self, **kwargs):\n",
    "        super().__init__(n_var=10, n_obj=1, n_constr=0, xl=-5, xu=5, **kwargs)\n",
    "\n",
    "    def _evaluate(self, x, out, *args, **kwargs):\n",
    "         out[\"F\"] = np.sum(x ** 2, axis=1) "
   ]
  },
  {
   "cell_type": "markdown",
   "metadata": {},
   "source": [
    "The `axis=1` operation parallelizes the sum of the matrix directly using an efficient numpy operation."
   ]
  },
  {
   "cell_type": "code",
   "execution_count": 5,
   "metadata": {},
   "outputs": [
    {
     "name": "stdout",
     "output_type": "stream",
     "text": [
      "Threads: 0.899420976638794\n"
     ]
    }
   ],
   "source": [
    "from pymoo.algorithms.so_genetic_algorithm import GA\n",
    "from pymoo.optimize import minimize\n",
    "\n",
    "res = minimize(MyProblem(), GA())\n",
    "print('Threads:', res.exec_time)"
   ]
  },
  {
   "cell_type": "markdown",
   "metadata": {},
   "source": [
    "## Starmap Interface\n",
    "\n",
    "In general **pymoo** allows to pass a `starmap` object to be used for parallelization. \n",
    "The `starmap` interface is defined in the Python standard library `multiprocessing.Pool.starmap` [function](https://docs.python.org/3/library/multiprocessing.html?highlight=multiprocessing#multiprocessing.pool.Pool.starmap).\n",
    "This allows great and flexible parallelization opportunities. \n",
    "\n",
    "**IMPORTANT:** Please note that the problem needs to have set `elementwise_evaluation=True` which implicates one call of `_evaluate` only takes care of a single solution.\n"
   ]
  },
  {
   "cell_type": "code",
   "execution_count": 6,
   "metadata": {},
   "outputs": [],
   "source": [
    "class MyProblem(Problem):\n",
    "\n",
    "    def __init__(self, **kwargs):\n",
    "        super().__init__(n_var=10, n_obj=1, n_constr=0, xl=-5, xu=5, \n",
    "                         elementwise_evaluation=True, **kwargs)\n",
    "\n",
    "    def _evaluate(self, x, out, *args, **kwargs):\n",
    "         out[\"F\"] = (x ** 2).sum()"
   ]
  },
  {
   "cell_type": "markdown",
   "metadata": {},
   "source": [
    "Then, we can pass a `starmap` object to be used for parallelization."
   ]
  },
  {
   "cell_type": "markdown",
   "metadata": {},
   "source": [
    "### Threads"
   ]
  },
  {
   "cell_type": "code",
   "execution_count": 7,
   "metadata": {
    "collapsed": false,
    "jupyter": {
     "outputs_hidden": false
    },
    "pycharm": {
     "name": "#%%\n"
    }
   },
   "outputs": [],
   "source": [
    "from multiprocessing.pool import ThreadPool\n",
    "\n",
    "# the number of threads to be used\n",
    "n_threads = 8\n",
    "\n",
    "# initialize the pool\n",
    "pool = ThreadPool(n_threads)\n",
    "\n",
    "# define the problem by passing the starmap interface of the thread pool\n",
    "problem = MyProblem(parallelization = ('starmap', pool.starmap))"
   ]
  },
  {
   "cell_type": "code",
   "execution_count": 8,
   "metadata": {},
   "outputs": [
    {
     "name": "stdout",
     "output_type": "stream",
     "text": [
      "Threads: 1.0480430126190186\n"
     ]
    }
   ],
   "source": [
    "from pymoo.algorithms.so_genetic_algorithm import GA\n",
    "from pymoo.optimize import minimize\n",
    "\n",
    "res = minimize(problem, GA())\n",
    "print('Threads:', res.exec_time)"
   ]
  },
  {
   "cell_type": "code",
   "execution_count": 9,
   "metadata": {},
   "outputs": [],
   "source": [
    "pool.close()"
   ]
  },
  {
   "cell_type": "markdown",
   "metadata": {},
   "source": [
    "### Processes"
   ]
  },
  {
   "cell_type": "code",
   "execution_count": 10,
   "metadata": {
    "collapsed": false,
    "jupyter": {
     "outputs_hidden": false
    },
    "pycharm": {
     "name": "#%%\n"
    }
   },
   "outputs": [],
   "source": [
    "import multiprocessing\n",
    "\n",
    "# the number of processes to be used\n",
    "n_proccess = 8\n",
    "pool = multiprocessing.Pool(n_proccess)\n",
    "problem = MyProblem(parallelization = ('starmap', pool.starmap))"
   ]
  },
  {
   "cell_type": "code",
   "execution_count": 11,
   "metadata": {},
   "outputs": [
    {
     "name": "stdout",
     "output_type": "stream",
     "text": [
      "Processes: 11.800267219543457\n"
     ]
    }
   ],
   "source": [
    "res = minimize(problem, GA())\n",
    "print('Processes:', res.exec_time)"
   ]
  },
  {
   "cell_type": "code",
   "execution_count": 12,
   "metadata": {},
   "outputs": [],
   "source": [
    "pool.close()"
   ]
  },
  {
   "cell_type": "markdown",
   "metadata": {},
   "source": [
    "**Note:** Here clearly the overhead of serializing and transfer the data are visible."
   ]
  },
  {
   "cell_type": "markdown",
   "metadata": {},
   "source": [
    "## Dask"
   ]
  },
  {
   "cell_type": "markdown",
   "metadata": {},
   "source": [
    "More advanced is to distribute the evaluation function to a couple of workers. There exists a couple of framework that support the distribution of code. For our framework, we recommend using [Dask](https://dask.org).\n",
    "\n",
    "A documentation to setup the cluster is available [here](https://docs.dask.org/en/latest/setup/cli.html). Basically, you first start a scheduler somewhere and then connect workers to it. Then, a client object connects to the scheduler and distributes the jobs automatically for you."
   ]
  },
  {
   "cell_type": "code",
   "execution_count": 13,
   "metadata": {},
   "outputs": [],
   "source": [
    "from dask.distributed import Client\n",
    "client = Client()"
   ]
  },
  {
   "cell_type": "code",
   "execution_count": 14,
   "metadata": {},
   "outputs": [],
   "source": [
    "import numpy as np\n",
    "from pymoo.model.problem import Problem\n",
    "\n",
    "# define the evaluation function that directly returns the objective and/or\n",
    "# constraint values. Please note it must be elementwise_evaluation.\n",
    "def fun(x):\n",
    "    return {\n",
    "        \"F\": np.sum(x ** 2)\n",
    "    }\n",
    "\n",
    "# define a problem without any evaluation function - everything is done by parallelization\n",
    "class MyProblem(Problem):\n",
    "\n",
    "    def __init__(self, *args, **kwargs):\n",
    "        super().__init__(n_var=10, n_obj=1, n_constr=0, xl=-5, xu=5, \n",
    "                         elementwise_evaluation=True, *args, **kwargs)\n",
    "\n",
    "# create the problem and set the parallelization to dask\n",
    "problem = MyProblem(parallelization=(\"dask\", client, fun))"
   ]
  },
  {
   "cell_type": "code",
   "execution_count": 15,
   "metadata": {},
   "outputs": [
    {
     "name": "stdout",
     "output_type": "stream",
     "text": [
      "Dask: 54.45502281188965\n"
     ]
    }
   ],
   "source": [
    "res = minimize(problem, GA())\n",
    "print('Dask:', res.exec_time)"
   ]
  },
  {
   "cell_type": "code",
   "execution_count": 16,
   "metadata": {},
   "outputs": [],
   "source": [
    "client.close()"
   ]
  },
  {
   "cell_type": "markdown",
   "metadata": {},
   "source": [
    "**Note:** Here the overhead of transferring data to the workers of Dask is dominating. However, if your problem is computationally more expensive this shall not be the case anymore."
   ]
  },
  {
   "cell_type": "markdown",
   "metadata": {},
   "source": [
    "## Custom Parallelization"
   ]
  },
  {
   "cell_type": "markdown",
   "metadata": {},
   "source": [
    "If you need more control over the parallelization process, we like to provide an example of implementation a custom parallelization.\n",
    "Since by default `elementwise_evaluation` is disabled the `_evaluate` gets the whole set of solutions to be evaluated."
   ]
  },
  {
   "cell_type": "markdown",
   "metadata": {},
   "source": [
    "### Threads"
   ]
  },
  {
   "cell_type": "markdown",
   "metadata": {},
   "source": [
    "Thus, a thread pool can be initialized in the constructor of the `Problem` class and then be used to speed up the evaluation.\n",
    "The code below basically does what internally happens using the `starmap` interface of *pymoo* directly (with an inline function definition and without some overhead this is why it is actually slightly faster)."
   ]
  },
  {
   "cell_type": "code",
   "execution_count": 17,
   "metadata": {},
   "outputs": [],
   "source": [
    "from pymoo.model.problem import Problem\n",
    "\n",
    "class MyProblem(Problem):\n",
    "\n",
    "    def __init__(self, **kwargs):\n",
    "        super().__init__(n_var=10, n_obj=1, n_constr=0, xl=-5, xu=5, **kwargs)\n",
    "        self.pool = ThreadPool(8)\n",
    "\n",
    "    def _evaluate(self, X, out, *args, **kwargs):\n",
    "        \n",
    "        # define the function\n",
    "        def my_eval(x):\n",
    "            return (x ** 2).sum()\n",
    "            \n",
    "        # prepare the parameters for the pool\n",
    "        params = [[X[k]] for k in range(len(X))]\n",
    "\n",
    "        # calculate the function values in a parallelized manner and wait until done\n",
    "        F = self.pool.starmap(my_eval, params)\n",
    "        \n",
    "        # store the function values and return them.\n",
    "        out[\"F\"] = np.array(F)\n",
    "        \n",
    "problem = MyProblem()       "
   ]
  },
  {
   "cell_type": "code",
   "execution_count": 18,
   "metadata": {},
   "outputs": [
    {
     "name": "stdout",
     "output_type": "stream",
     "text": [
      "Threads: 1.0474400520324707\n"
     ]
    }
   ],
   "source": [
    "res = minimize(problem, GA())\n",
    "print('Threads:', res.exec_time)"
   ]
  },
  {
   "cell_type": "code",
   "execution_count": 19,
   "metadata": {},
   "outputs": [],
   "source": [
    "problem.pool.close()"
   ]
  },
  {
   "cell_type": "markdown",
   "metadata": {},
   "source": [
    "### Dask"
   ]
  },
  {
   "cell_type": "code",
   "execution_count": 20,
   "metadata": {},
   "outputs": [],
   "source": [
    "import numpy as np\n",
    "from dask.distributed import Client\n",
    "\n",
    "from pymoo.algorithms.so_genetic_algorithm import GA\n",
    "from pymoo.model.problem import Problem\n",
    "from pymoo.optimize import minimize\n",
    "\n",
    "\n",
    "class MyProblem(Problem):\n",
    "\n",
    "    def __init__(self, client, *args, **kwargs):\n",
    "        super().__init__(n_var=10, n_obj=1, n_constr=0, xl=-5, xu=5,\n",
    "                         elementwise_evaluation=False, *args, **kwargs)\n",
    "        self.client = client\n",
    "\n",
    "    def _evaluate(self, X, out, *args, **kwargs):\n",
    "        def fun(x):\n",
    "            return np.sum(x ** 2)\n",
    "\n",
    "        jobs = [self.client.submit(fun, x) for x in X]\n",
    "        out[\"F\"] = np.row_stack([job.result() for job in jobs])\n"
   ]
  },
  {
   "cell_type": "code",
   "execution_count": 21,
   "metadata": {},
   "outputs": [
    {
     "name": "stdout",
     "output_type": "stream",
     "text": [
      "Dask: 26.734183311462402\n"
     ]
    }
   ],
   "source": [
    "client = Client(processes=False)\n",
    "\n",
    "problem = MyProblem(client)\n",
    "\n",
    "res = minimize(problem, GA())\n",
    "print('Dask:', res.exec_time)\n",
    "\n",
    "client.close()"
   ]
  }
 ],
 "metadata": {
  "kernelspec": {
   "display_name": "Python 3",
   "language": "python",
   "name": "python3"
  },
  "language_info": {
   "codemirror_mode": {
    "name": "ipython",
    "version": 3
   },
   "file_extension": ".py",
   "mimetype": "text/x-python",
   "name": "python",
   "nbconvert_exporter": "python",
   "pygments_lexer": "ipython3",
   "version": "3.7.3"
  }
 },
 "nbformat": 4,
 "nbformat_minor": 4
}
